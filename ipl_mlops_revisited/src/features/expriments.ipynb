{
 "cells": [
  {
   "cell_type": "code",
   "execution_count": 10,
   "metadata": {},
   "outputs": [
    {
     "name": "stdout",
     "output_type": "stream",
     "text": [
      "aw\u0007ll_season_details.csv does not exist.\n"
     ]
    },
    {
     "ename": "AttributeError",
     "evalue": "'NoneType' object has no attribute 'head'",
     "output_type": "error",
     "traceback": [
      "\u001b[1;31m---------------------------------------------------------------------------\u001b[0m",
      "\u001b[1;31mAttributeError\u001b[0m                            Traceback (most recent call last)",
      "Cell \u001b[1;32mIn[10], line 29\u001b[0m\n\u001b[0;32m     26\u001b[0m \u001b[38;5;66;03m# Example usage\u001b[39;00m\n\u001b[0;32m     27\u001b[0m \u001b[38;5;66;03m#file_path = os.path.join('data', 'raw', 'all_season_details.csv')\u001b[39;00m\n\u001b[0;32m     28\u001b[0m df \u001b[38;5;241m=\u001b[39m load_data(\u001b[38;5;124m\"\u001b[39m\u001b[38;5;124mdata\u001b[39m\u001b[38;5;130;01m\\r\u001b[39;00m\u001b[38;5;124maw\u001b[39m\u001b[38;5;130;01m\\a\u001b[39;00m\u001b[38;5;124mll_season_details.csv\u001b[39m\u001b[38;5;124m\"\u001b[39m)\n\u001b[1;32m---> 29\u001b[0m df\u001b[38;5;241m.\u001b[39mhead(\u001b[38;5;241m2\u001b[39m)\n",
      "\u001b[1;31mAttributeError\u001b[0m: 'NoneType' object has no attribute 'head'"
     ]
    }
   ],
   "source": [
    "import pandas as pd\n",
    "import os\n",
    "\n",
    "def load_data(path):\n",
    "    # Check if the file exists\n",
    "    if not os.path.exists(path):\n",
    "        print(f\"Error: The file at path {path} does not exist.\")\n",
    "        return None\n",
    "\n",
    "    # Try to load the CSV file\n",
    "    try:\n",
    "        df = pd.read_csv(path)\n",
    "        print(\"Data loaded successfully.\")\n",
    "        return df\n",
    "    except Exception as e:\n",
    "        print(f\"Error loading data: {e}\")\n",
    "        return None\n",
    "\n",
    "def save_cleaned_df(df,path):\n",
    "    try:\n",
    "        df.to_csv(path,index=False)\n",
    "        print(\"File saved succesfully\")\n",
    "    except Exception as e:\n",
    "        print(f\"Error saving DataFrame: {e}\")\n",
    "\n",
    "# Example usage\n",
    "#file_path = os.path.join('data', 'raw', 'all_season_details.csv')\n",
    "df = load_data(\"data\\raw\\all_season_details.csv\")\n",
    "df.head(2)\n",
    "\n"
   ]
  },
  {
   "cell_type": "code",
   "execution_count": 3,
   "metadata": {},
   "outputs": [
    {
     "data": {
      "text/plain": [
       "Index(['comment_id', 'season', 'match_id', 'match_name', 'home_team',\n",
       "       'away_team', 'current_innings', 'innings_id', 'over', 'ball', 'runs',\n",
       "       'isBoundary', 'isWide', 'isNoball', 'batsman1_name', 'batsman_runs',\n",
       "       'batsman_balls', 'bowler_name', 'bowler_overs', 'bowler_maidens',\n",
       "       'bowler_runs', 'bowler_wkts', 'wicket_id', 'wkt_batsman_name',\n",
       "       'wkt_bowler_name', 'wkt_batsman_runs', 'wkt_batsman_balls', 'wkt_text',\n",
       "       'isRetiredHurt', 'text', 'preText', 'postText'],\n",
       "      dtype='object')"
      ]
     },
     "execution_count": 3,
     "metadata": {},
     "output_type": "execute_result"
    }
   ],
   "source": [
    "df.columns"
   ]
  },
  {
   "cell_type": "code",
   "execution_count": 1,
   "metadata": {},
   "outputs": [
    {
     "ename": "NameError",
     "evalue": "name 'df' is not defined",
     "output_type": "error",
     "traceback": [
      "\u001b[1;31m---------------------------------------------------------------------------\u001b[0m",
      "\u001b[1;31mNameError\u001b[0m                                 Traceback (most recent call last)",
      "Cell \u001b[1;32mIn[1], line 1\u001b[0m\n\u001b[1;32m----> 1\u001b[0m df\u001b[38;5;241m.\u001b[39minnings_id\u001b[38;5;241m.\u001b[39munique()\n",
      "\u001b[1;31mNameError\u001b[0m: name 'df' is not defined"
     ]
    }
   ],
   "source": [
    "df.innings_id.unique()"
   ]
  },
  {
   "cell_type": "code",
   "execution_count": 30,
   "metadata": {},
   "outputs": [],
   "source": [
    "def clean_data(df):\n",
    "        return(\n",
    "                 df.drop(\"comment_id\",axis=1)\n",
    "                 .assign(\n",
    "                        home_team=lambda df_:(\n",
    "                                df_\n",
    "                                .home_team\n",
    "                                .str.replace(\"PWI\",\"PBKS\")\n",
    "                                .str.replace('GL','GT')\n",
    "                                .str.replace(\"KXIP\",\"PBKS\")  \n",
    "                                ),\n",
    "                        away_team=lambda df_:(\n",
    "                                df_\n",
    "                                .away_team\n",
    "                                .str.replace(\"PWI\",\"PBKS\")\n",
    "                                .str.replace('GL','GT')\n",
    "                                .str.replace(\"KXIP\",\"PBKS\")  \n",
    "                                ),\n",
    "                        current_innings=lambda df_:(\n",
    "                                df_\n",
    "                                .current_innings\n",
    "                                .str.replace(\"PWI\",\"PBKS\")\n",
    "                                .str.replace('GL','GT')\n",
    "                                .str.replace(\"KXIP\",\"PBKS\")  \n",
    "                                )               \n",
    "                        )\n",
    "              )"
   ]
  },
  {
   "cell_type": "code",
   "execution_count": 31,
   "metadata": {},
   "outputs": [
    {
     "data": {
      "text/plain": [
       "array(['CSK', 'GT', 'PBKS', 'KKR', 'LSG', 'DC', 'RR', 'SRH', 'MI', 'RCB',\n",
       "       'RPS', 'Kochi'], dtype=object)"
      ]
     },
     "execution_count": 31,
     "metadata": {},
     "output_type": "execute_result"
    }
   ],
   "source": [
    "df_clean=clean_data(df)\n",
    "\n",
    "df_clean.current_innings.unique()"
   ]
  }
 ],
 "metadata": {
  "kernelspec": {
   "display_name": "base",
   "language": "python",
   "name": "python3"
  },
  "language_info": {
   "codemirror_mode": {
    "name": "ipython",
    "version": 3
   },
   "file_extension": ".py",
   "mimetype": "text/x-python",
   "name": "python",
   "nbconvert_exporter": "python",
   "pygments_lexer": "ipython3",
   "version": "3.11.5"
  }
 },
 "nbformat": 4,
 "nbformat_minor": 2
}
